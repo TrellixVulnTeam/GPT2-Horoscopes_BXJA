{
 "cells": [
  {
   "cell_type": "markdown",
   "metadata": {},
   "source": [
    "<h3 style=\"color:red\" > Original code works, but tf1 throws deprecation warnings"
   ]
  },
  {
   "cell_type": "markdown",
   "metadata": {
    "colab_type": "text",
    "id": "wUHhr-z1g0P8"
   },
   "source": [
    "<h1> Local implementation </h1>\n",
    "    \n",
    "https://github.com/minimaxir/gpt-2-simple/blob/master/gpt_2_simple/gpt_2.py"
   ]
  },
  {
   "cell_type": "markdown",
   "metadata": {},
   "source": [
    "<h3> 1: Run old backend"
   ]
  },
  {
   "cell_type": "code",
   "execution_count": 1,
   "metadata": {},
   "outputs": [
    {
     "name": "stdout",
     "output_type": "stream",
     "text": [
      "WARNING:tensorflow:From C:\\Users\\Ryan\\Anaconda3\\lib\\site-packages\\tensorflow\\python\\compat\\compat.py:175: disable_resource_variables (from tensorflow.python.ops.variable_scope) is deprecated and will be removed in a future version.\n",
      "Instructions for updating:\n",
      "non-resource variables are not supported in the long term\n"
     ]
    }
   ],
   "source": [
    "import tensorflow.compat.v1 as tf\n",
    "tf.disable_v2_behavior()"
   ]
  },
  {
   "cell_type": "code",
   "execution_count": 3,
   "metadata": {
    "colab": {
     "base_uri": "https://localhost:8080/",
     "height": 190
    },
    "colab_type": "code",
    "executionInfo": {
     "elapsed": 14888,
     "status": "ok",
     "timestamp": 1598508743880,
     "user": {
      "displayName": "Ryan L",
      "photoUrl": "",
      "userId": "11972670487865846176"
     },
     "user_tz": 240
    },
    "id": "doUArApIgzE4",
    "outputId": "587f493b-161b-4a15-c36f-4c9f1a6c8461"
   },
   "outputs": [],
   "source": [
    "# run 'pip install -q gpt-2-simple\n",
    "import gpt_2_simple as gpt2\n",
    "from datetime import datetime\n",
    "# from google.colab import files"
   ]
  },
  {
   "cell_type": "markdown",
   "metadata": {},
   "source": [
    "<h3> 2: Model 'loading' not needed if files already downloaded"
   ]
  },
  {
   "cell_type": "code",
   "execution_count": 4,
   "metadata": {
    "colab": {
     "base_uri": "https://localhost:8080/",
     "height": 158
    },
    "colab_type": "code",
    "executionInfo": {
     "elapsed": 59414,
     "status": "ok",
     "timestamp": 1598508788420,
     "user": {
      "displayName": "Ryan L",
      "photoUrl": "",
      "userId": "11972670487865846176"
     },
     "user_tz": 240
    },
    "id": "-p0hc7e-c3Sh",
    "outputId": "bca9c462-dbaa-4ce4-930c-3e581a366200"
   },
   "outputs": [
    {
     "name": "stdout",
     "output_type": "stream",
     "text": [
      "WARNING:tensorflow:From C:\\Users\\Ryan\\Anaconda3\\lib\\site-packages\\tensorflow\\python\\framework\\op_def_library.py:263: colocate_with (from tensorflow.python.framework.ops) is deprecated and will be removed in a future version.\n",
      "Instructions for updating:\n",
      "Colocations handled automatically by placer.\n",
      "Loading checkpoint checkpoint\\run1\\model-200\n",
      "WARNING:tensorflow:From C:\\Users\\Ryan\\Anaconda3\\lib\\site-packages\\tensorflow\\python\\training\\saver.py:1266: checkpoint_exists (from tensorflow.python.training.checkpoint_management) is deprecated and will be removed in a future version.\n",
      "Instructions for updating:\n",
      "Use standard file APIs to check for files with this prefix.\n",
      "INFO:tensorflow:Restoring parameters from checkpoint\\run1\\model-200\n"
     ]
    }
   ],
   "source": [
    "# gpt2.mount_gdrive()\n",
    "# gpt2.copy_checkpoint_from_gdrive(run_name='run1')\n",
    "\n",
    "sess = gpt2.start_tf_sess()\n",
    "gpt2.load_gpt2(sess, run_name='run1')"
   ]
  },
  {
   "cell_type": "code",
   "execution_count": 7,
   "metadata": {
    "colab": {
     "base_uri": "https://localhost:8080/",
     "height": 69
    },
    "colab_type": "code",
    "executionInfo": {
     "elapsed": 11250,
     "status": "ok",
     "timestamp": 1598508873696,
     "user": {
      "displayName": "Ryan L",
      "photoUrl": "",
      "userId": "11972670487865846176"
     },
     "user_tz": 240
    },
    "id": "Kdox4ahHc7rx",
    "outputId": "7df7cb4c-9c83-4b93-bd77-84f6583036e5"
   },
   "outputs": [
    {
     "name": "stdout",
     "output_type": "stream",
     "text": [
      " \"You have been a remarkable part of the world of work and you are determined to keep the spotlight on your career. Don’t be too ambitious, don’t be too ambitious and do it quickly. You are fortunate that you have a partner that will help you break the ice, so don’t be a fool when it comes to the world of work. \n"
     ]
    }
   ],
   "source": [
    "# run model with prefix\n",
    "#pre = \"\\\"\" + input(\"<Zodiac> <MM-DD-YYYY>\\n\") + \"\\\"\"\n",
    "pre = \"\\\"\" + \"gemini 09-01-2020\" + \"\\\"\"\n",
    "\n",
    "gpt2.generate(sess, run_name='run1', prefix = pre,\n",
    "              truncate = \"<end>\", include_prefix = False, # hide start/end\n",
    "              length = 200) # default 1023 is a bit too long"
   ]
  },
  {
   "cell_type": "code",
   "execution_count": null,
   "metadata": {},
   "outputs": [],
   "source": []
  }
 ],
 "metadata": {
  "accelerator": "GPU",
  "colab": {
   "authorship_tag": "ABX9TyM8SvDME2/tCT2ICt91w2gJ",
   "collapsed_sections": [],
   "name": "modified.ipynb",
   "provenance": []
  },
  "kernelspec": {
   "display_name": "Python 3",
   "language": "python",
   "name": "python3"
  },
  "language_info": {
   "codemirror_mode": {
    "name": "ipython",
    "version": 3
   },
   "file_extension": ".py",
   "mimetype": "text/x-python",
   "name": "python",
   "nbconvert_exporter": "python",
   "pygments_lexer": "ipython3",
   "version": "3.7.3"
  }
 },
 "nbformat": 4,
 "nbformat_minor": 4
}
